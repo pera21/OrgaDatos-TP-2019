{
 "cells": [
  {
   "cell_type": "code",
   "execution_count": 45,
   "metadata": {},
   "outputs": [],
   "source": [
    "import pandas as pd\n",
    "import matplotlib.pyplot as plt\n",
    "import numpy as np\n",
    "import sklearn as sk\n",
    "import xgboost"
   ]
  },
  {
   "cell_type": "code",
   "execution_count": 46,
   "metadata": {},
   "outputs": [],
   "source": [
    "from sklearn.utils import shuffle\n",
    "from numpy import sort\n",
    "from matplotlib import pyplot\n",
    "from xgboost import plot_importance\n",
    "from sklearn.feature_selection import SelectFromModel\n",
    "from sklearn.model_selection import RandomizedSearchCV\n",
    "from sklearn.model_selection import train_test_split\n",
    "from sklearn.metrics import accuracy_score, r2_score, classification_report, mean_squared_error\n",
    "from sklearn.linear_model import LogisticRegression\n",
    "from sklearn.model_selection import cross_val_score, KFold\n",
    "from sklearn.neighbors import KNeighborsRegressor\n",
    "from sklearn.tree import DecisionTreeRegressor\n",
    "from sklearn.ensemble import RandomForestRegressor\n",
    "from xgboost import XGBRegressor\n",
    "from sklearn.ensemble import AdaBoostRegressor\n",
    "from sklearn.model_selection import GridSearchCV\n",
    "from sklearn.ensemble import BaggingRegressor\n",
    "from sklearn.preprocessing import StandardScaler\n",
    "from sklearn.metrics import roc_auc_score, roc_curve"
   ]
  },
  {
   "cell_type": "code",
   "execution_count": 47,
   "metadata": {},
   "outputs": [],
   "source": [
    "devices0 = pd.read_csv(\"devices_featured0_final.csv\", low_memory = False)\n",
    "devices1 = pd.read_csv(\"devices_featured1_final.csv\", low_memory = False)\n",
    "devices2 = pd.read_csv(\"devices_featured2_final.csv\", low_memory = False)\n",
    "devices3 = pd.read_csv(\"devices_featured3_final.csv\", low_memory = False)"
   ]
  },
  {
   "cell_type": "code",
   "execution_count": 48,
   "metadata": {},
   "outputs": [
    {
     "name": "stdout",
     "output_type": "stream",
     "text": [
      "<class 'pandas.core.frame.DataFrame'>\n",
      "RangeIndex: 166029 entries, 0 to 166028\n",
      "Data columns (total 52 columns):\n",
      "ref_hash                         166029 non-null int64\n",
      "seconds_to_conversion            166029 non-null float64\n",
      "installs_not_implicit_percent    166029 non-null float64\n",
      "installs_implicit_percent        166029 non-null float64\n",
      "installs_day_1                   166029 non-null float64\n",
      "installs_day_2                   166029 non-null float64\n",
      "installs_day_3                   166029 non-null float64\n",
      "total_installs                   166029 non-null float64\n",
      "installs_day_1_percent           166029 non-null float64\n",
      "installs_day_2_percent           166029 non-null float64\n",
      "installs_day_3_percent           166029 non-null float64\n",
      "total_installs_normalized        166029 non-null float64\n",
      "events_day_1                     166029 non-null int64\n",
      "events_day_2                     166029 non-null int64\n",
      "events_day_3                     166029 non-null int64\n",
      "total_events                     166029 non-null int64\n",
      "events_day_1_percent             166029 non-null float64\n",
      "events_day_2_percent             166029 non-null float64\n",
      "events_day_3_percent             166029 non-null float64\n",
      "total_events_normalized          166029 non-null float64\n",
      "events_on_wifi_percent           166029 non-null float64\n",
      "clicks_day_1                     166029 non-null float64\n",
      "clicks_day_2                     166029 non-null float64\n",
      "clicks_day_3                     166029 non-null float64\n",
      "total_clicks                     166029 non-null float64\n",
      "clicks_day_1_percent             166029 non-null float64\n",
      "clicks_day_2_percent             166029 non-null float64\n",
      "clicks_day_3_percent             166029 non-null float64\n",
      "total_clicks_normalized          166029 non-null float64\n",
      "mean_distance_to_close_button    166029 non-null float64\n",
      "mean_diff_between_installs       166029 non-null float64\n",
      "std_diff_between_installs        166029 non-null float64\n",
      "mean_diff_between_events         166029 non-null float64\n",
      "std_diff_between_events          166029 non-null float64\n",
      "mean_diff_between_clicks         166029 non-null float64\n",
      "std_diff_between_clicks          166029 non-null float64\n",
      "os_minor                         166029 non-null float64\n",
      "os_major                         166029 non-null float64\n",
      "ref_type                         166029 non-null float64\n",
      "brand                            166029 non-null float64\n",
      "time_to_click_mean               166029 non-null float64\n",
      "seconds_to_auction               166029 non-null float64\n",
      "auctions_day_1                   166029 non-null float64\n",
      "auctions_day_2                   166029 non-null float64\n",
      "auctions_day_3                   166029 non-null float64\n",
      "total_auctions                   166029 non-null float64\n",
      "auctions_day_1_percent           166029 non-null float64\n",
      "auctions_day_2_percent           166029 non-null float64\n",
      "auctions_day_3_percent           166029 non-null float64\n",
      "total_auctions_normalized        166029 non-null float64\n",
      "mean_diff_between_auctions       166029 non-null float64\n",
      "std_diff_between_auctions        166029 non-null float64\n",
      "dtypes: float64(47), int64(5)\n",
      "memory usage: 65.9 MB\n"
     ]
    }
   ],
   "source": [
    "devices0.info()"
   ]
  },
  {
   "cell_type": "code",
   "execution_count": 49,
   "metadata": {},
   "outputs": [],
   "source": [
    "sec_to_conv0 = np.array(devices0['seconds_to_conversion'])\n",
    "sec_to_conv1 = np.array(devices1['seconds_to_conversion'])\n",
    "sec_to_conv2 = np.array(devices2['seconds_to_conversion'])\n",
    "sec_to_conv3 = np.array(devices3['seconds_to_conversion'])\n",
    "sec_to_auct0 = np.array(devices0['seconds_to_auction'])\n",
    "sec_to_auct1 = np.array(devices1['seconds_to_auction'])\n",
    "sec_to_auct2 = np.array(devices2['seconds_to_auction'])\n",
    "sec_to_auct3 = np.array(devices3['seconds_to_auction'])\n",
    "data_array0 = np.array(devices0.drop(columns=['seconds_to_conversion', 'ref_hash', 'seconds_to_auction']))\n",
    "data_array1 = np.array(devices1.drop(columns=['seconds_to_conversion', 'ref_hash', 'seconds_to_auction']))\n",
    "data_array2 = np.array(devices2.drop(columns=['seconds_to_conversion', 'ref_hash', 'seconds_to_auction']))\n",
    "data_array3 = np.array(devices3.drop(columns=['seconds_to_conversion', 'ref_hash', 'seconds_to_auction']))"
   ]
  },
  {
   "cell_type": "code",
   "execution_count": 50,
   "metadata": {},
   "outputs": [],
   "source": [
    "x_train0, x_test0, y_train0, y_test0 = train_test_split(data_array0, sec_to_conv0, test_size = 0.30, random_state = 1)\n",
    "x_train1, x_test1, y_train1, y_test1 = train_test_split(data_array1, sec_to_conv1, test_size = 0.30, random_state = 2)\n",
    "x_train2, x_test2, y_train2, y_test2 = train_test_split(data_array2, sec_to_conv2, test_size = 0.30, random_state = 3)\n",
    "x_train3, x_test3, y_train3, y_test3 = train_test_split(data_array3, sec_to_conv3, test_size = 0.30, random_state = 4)\n",
    "\n",
    "x_train4, x_test4, y_train4, y_test4 = train_test_split(data_array0, sec_to_auct0, test_size = 0.30, random_state = 5)\n",
    "x_train5, x_test5, y_train5, y_test5 = train_test_split(data_array1, sec_to_auct1, test_size = 0.30, random_state = 6)\n",
    "x_train6, x_test6, y_train6, y_test6 = train_test_split(data_array2, sec_to_auct2, test_size = 0.30, random_state = 7)\n",
    "x_train7, x_test7, y_train7, y_test7 = train_test_split(data_array3, sec_to_auct3, test_size = 0.30, random_state = 8)"
   ]
  },
  {
   "cell_type": "code",
   "execution_count": 51,
   "metadata": {},
   "outputs": [],
   "source": [
    "def logisticReg(x_train, x_test, y_train, y_test):\n",
    "    logReg = LogisticRegression(solver='sag', random_state=1)\n",
    "    logReg.fit(x_train, y_train)\n",
    "    y_pred = logReg.predict(x_test)\n",
    "    return np.sqrt(mean_squared_error(y_test, y_pred))"
   ]
  },
  {
   "cell_type": "code",
   "execution_count": 52,
   "metadata": {},
   "outputs": [],
   "source": [
    "def knn(k, x_train, x_test, y_train, y_test):\n",
    "    knn = KNeighborsRegressor(n_neighbors=k, metric='manhattan')\n",
    "    knn.fit(x_train, y_train)\n",
    "    y_pred = knn.predict(x_test)\n",
    "    return np.sqrt(mean_squared_error(y_test, y_pred))"
   ]
  },
  {
   "cell_type": "code",
   "execution_count": 53,
   "metadata": {},
   "outputs": [],
   "source": [
    "def decisionTree(max_depth, max_features, x_train, x_test, y_train, y_test):\n",
    "    dt = DecisionTreeRegressor(max_depth=max_depth, max_features=max_features)\n",
    "    dt.fit(x_train, y_train)\n",
    "    y_pred = dt.predict(x_test)\n",
    "    return np.sqrt(mean_squared_error(y_test, y_pred))"
   ]
  },
  {
   "cell_type": "code",
   "execution_count": 54,
   "metadata": {},
   "outputs": [],
   "source": [
    "def xgboost(max_depth, n_estimators, x_train, x_test, y_train, y_test):\n",
    "    xgb = XGBRegressor(max_depth=max_depth, n_estimators=n_estimators)\n",
    "    xgb.fit(x_train, y_train)\n",
    "    y_pred = xgb.predict(x_test)\n",
    "    return np.sqrt(mean_squared_error(y_test, y_pred))"
   ]
  },
  {
   "cell_type": "code",
   "execution_count": 55,
   "metadata": {},
   "outputs": [],
   "source": [
    "def adaboost(nEstimators, learningRate, x_train, x_test, y_train, y_test):\n",
    "    ada = AdaBoostRegressor(n_estimators=nEstimators, learning_rate=learningRate, random_state=0)\n",
    "    ada.fit(x_train, y_train)\n",
    "    y_pred = xgb.predict(x_test)\n",
    "    return np.sqrt(mean_squared_error(y_test, y_pred))"
   ]
  },
  {
   "cell_type": "code",
   "execution_count": 56,
   "metadata": {},
   "outputs": [],
   "source": [
    "def bagging(baseEstimator, nEstimators, learningRate, max_feature, bootstrap, bootstrap_feature, x_train, x_test, y_train, y_test):\n",
    "    bag = BaggingRegressor(base_estimator=base_estimator, n_estimators=nEstimators, max_features=max_feature, bootstrap=bootstrap, bootstrap_features=bootstrap_feature, random_state=seed)\n",
    "    bag.fit(x_train, y_train)\n",
    "    y_pred = bag.predict(x_test)\n",
    "    return np.sqrt(mean_squared_error(y_test, y_pred))"
   ]
  },
  {
   "cell_type": "code",
   "execution_count": 57,
   "metadata": {},
   "outputs": [],
   "source": [
    "def randomForest(n_estimators, max_depth, x_train, x_test, y_train, y_test):\n",
    "    rf = RandomForestRegressor(n_estimators=n_estimators, max_depth=max_depth)\n",
    "    rf.fit(x_train, y_train)\n",
    "    y_pred = rf.predict(x_test)\n",
    "    return np.sqrt(mean_squared_error(y_test, y_pred))"
   ]
  },
  {
   "cell_type": "code",
   "execution_count": 58,
   "metadata": {},
   "outputs": [],
   "source": [
    "random_forest_grid_param = {'n_estimators': [3, 10, 20, 40, 50, 70, 80, 100, 120, 160, 200, 250, 300],\n",
    "               'max_features': ['auto', 'log2'],\n",
    "               'max_depth': [3, 5, 7, 9, 15, 30, 40, 50, 60, 70, 80, 90, 100],\n",
    "               'min_samples_split': [2, 5, 8, 10],\n",
    "               'min_samples_leaf': [1, 2, 4],\n",
    "               'bootstrap': [True, False]}"
   ]
  },
  {
   "cell_type": "code",
   "execution_count": 59,
   "metadata": {},
   "outputs": [],
   "source": [
    "xgb_grid_param = {\n",
    "    'max_depth': [3, 5, 7, 9], #[3,4,5,6,7,8,9], # 5 is good but takes too long in kaggle env\n",
    "    'subsample': [0.6, 0.8], #[0.4,0.5,0.6,0.7,0.8,0.9,1.0],\n",
    "    'colsample_bytree': [0.6, 0.8], #[0.5,0.6,0.7,0.8],\n",
    "    'n_estimators': [100, 300, 500, 700], #[1000,2000,3000]\n",
    "    'learning_rate': [0.05, 0.1]}"
   ]
  },
  {
   "cell_type": "code",
   "execution_count": 65,
   "metadata": {},
   "outputs": [],
   "source": [
    "resultknn = knn(3,x_train0, x_test0, y_train0, y_test0)"
   ]
  },
  {
   "cell_type": "code",
   "execution_count": 67,
   "metadata": {},
   "outputs": [],
   "source": [
    "resultDT = decisionTree(10, 'auto', x_train0, x_test0, y_train0, y_test0)"
   ]
  },
  {
   "cell_type": "code",
   "execution_count": 68,
   "metadata": {},
   "outputs": [
    {
     "data": {
      "text/plain": [
       "40685.070109240674"
      ]
     },
     "execution_count": 68,
     "metadata": {},
     "output_type": "execute_result"
    }
   ],
   "source": [
    "resultDT"
   ]
  }
 ],
 "metadata": {
  "kernelspec": {
   "display_name": "Python 3",
   "language": "python",
   "name": "python3"
  },
  "language_info": {
   "codemirror_mode": {
    "name": "ipython",
    "version": 3
   },
   "file_extension": ".py",
   "mimetype": "text/x-python",
   "name": "python",
   "nbconvert_exporter": "python",
   "pygments_lexer": "ipython3",
   "version": "3.7.1"
  }
 },
 "nbformat": 4,
 "nbformat_minor": 2
}
