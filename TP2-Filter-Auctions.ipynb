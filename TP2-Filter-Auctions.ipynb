{
 "cells": [
  {
   "cell_type": "code",
   "execution_count": 1,
   "metadata": {},
   "outputs": [],
   "source": [
    "import datetime as datetime\n",
    "import datetime \n",
    "import pandas as pd\n",
    "import numpy as np"
   ]
  },
  {
   "cell_type": "code",
   "execution_count": 2,
   "metadata": {},
   "outputs": [],
   "source": [
    "devices = {}\n",
    "devices[0] = pd.read_csv(\"devices_featured0.csv\")\n",
    "devices[1] = pd.read_csv(\"devices_featured1.csv\")\n",
    "devices[2] = pd.read_csv(\"devices_featured2.csv\")\n",
    "devices[3] = pd.read_csv(\"devices_featured3.csv\")\n",
    "#devices[6] = pd.read_csv(\"devices_featured6.csv\")\n",
    "auctions = pd.read_csv(\"auctions.csv.gzip\", compression='gzip')\n",
    "\n",
    "pd.set_option('display.max_columns', 50)\n",
    "pd.set_option('display.float_format', lambda x: '%.3f' % x)"
   ]
  },
  {
   "cell_type": "markdown",
   "metadata": {},
   "source": [
    "#### Transformo a datetime la fecha y las posiciones de clicks en floats"
   ]
  },
  {
   "cell_type": "code",
   "execution_count": 3,
   "metadata": {},
   "outputs": [],
   "source": [
    "auctions['date'] = pd.to_datetime(auctions['date'])"
   ]
  },
  {
   "cell_type": "markdown",
   "metadata": {},
   "source": [
    "### Agrego columnas a auctions para poder clasificar despues"
   ]
  },
  {
   "cell_type": "code",
   "execution_count": 4,
   "metadata": {},
   "outputs": [],
   "source": [
    "auctions['auction_day'] = auctions['date'].dt.day"
   ]
  },
  {
   "cell_type": "markdown",
   "metadata": {},
   "source": [
    "# Appendeando el dataframe"
   ]
  },
  {
   "cell_type": "markdown",
   "metadata": {},
   "source": [
    "### Separo los dataframe para obtener las distintas ventanas con las cuales entrenar"
   ]
  },
  {
   "cell_type": "code",
   "execution_count": 5,
   "metadata": {},
   "outputs": [
    {
     "name": "stderr",
     "output_type": "stream",
     "text": [
      "/home/maximiliano/miniconda3/lib/python3.6/site-packages/ipykernel_launcher.py:8: SettingWithCopyWarning: \n",
      "A value is trying to be set on a copy of a slice from a DataFrame.\n",
      "Try using .loc[row_indexer,col_indexer] = value instead\n",
      "\n",
      "See the caveats in the documentation: http://pandas.pydata.org/pandas-docs/stable/indexing.html#indexing-view-versus-copy\n",
      "  \n",
      "/home/maximiliano/miniconda3/lib/python3.6/site-packages/ipykernel_launcher.py:9: SettingWithCopyWarning: \n",
      "A value is trying to be set on a copy of a slice from a DataFrame.\n",
      "Try using .loc[row_indexer,col_indexer] = value instead\n",
      "\n",
      "See the caveats in the documentation: http://pandas.pydata.org/pandas-docs/stable/indexing.html#indexing-view-versus-copy\n",
      "  if __name__ == '__main__':\n"
     ]
    }
   ],
   "source": [
    "df_auctions = {}\n",
    "for i in range(18, 22):\n",
    "#for i in range (24, 25):\n",
    "    windowStartDate = datetime.datetime(2019, 4, i)\n",
    "    windowEndDate = datetime.datetime(2019, 4, i + 3)\n",
    "    df_auctions[i - 18] = auctions.loc[(auctions['date'] >= windowStartDate) & (windowEndDate >= auctions['date'])]\n",
    "    #Calculando diferencias de tiempos para auctions para un mismo usuario y esa ventana\n",
    "    df_auctions[i - 18]['diff_to_prev_auction'] = df_auctions[i - 18].sort_values('date', ascending=True).groupby('device_id')['date'].diff()\n",
    "    df_auctions[i - 18]['diff_to_prev_auction'] = df_auctions[i - 18]['diff_to_prev_auction']/np.timedelta64(1, 's')\n",
    "    \n",
    "    #Agrego los segundos a la proxima subasta (desde el inicio de la ventana)\n",
    "    next_window_auctions = auctions.loc[(auctions['date'] >= datetime.datetime(2019, 4, i + 3)) & (datetime.datetime(2019, 4, i + 6) >= auctions['date'])]\n",
    "    devices[i - 18] = pd.merge(devices[i - 18], next_window_auctions.groupby('device_id')['date'].min().reset_index(), left_on='ref_hash', right_on='device_id', how='left')\n",
    "    devices[i - 18].rename(columns = {'date':'seconds_to_auction'}, inplace=True)\n",
    "    devices[i - 18]['seconds_to_auction'] = (devices[i - 18]['seconds_to_auction'] - windowEndDate)/np.timedelta64(1, 's')\n",
    "    devices[i - 18].drop('device_id', inplace=True, axis=1)\n",
    "    \n",
    "    #Completo los seconds_to_auction de los que no tuvieron subastas con el valor correspondiente a 3 dias en segundos\n",
    "    devices[i - 18].loc[pd.isnull(devices[i - 18]['seconds_to_auction']), 'seconds_to_auction'] = 259200"
   ]
  },
  {
   "cell_type": "markdown",
   "metadata": {},
   "source": [
    "## Agrego features para cada dataframe de devices"
   ]
  },
  {
   "cell_type": "code",
   "execution_count": 6,
   "metadata": {},
   "outputs": [],
   "source": [
    "for i in range(0, 4):\n",
    "#for i in range (6, 7):\n",
    "    #Porcentaje de subastas por dia en el periodo + total subastas\n",
    "    auctions_by_day = pd.pivot_table(df_auctions[i], index='device_id', columns='auction_day', values='date', aggfunc='count', fill_value=0, margins=True).reset_index()\n",
    "    auctions_by_day.drop(auctions_by_day.tail(1).index, inplace=True) #Elimino el margin creado por pivot_table\n",
    "    auctions_by_day.columns = ['ref_hash', 'auctions_day_1', 'auctions_day_2', 'auctions_day_3', 'total_auctions']\n",
    "    auctions_by_day['ref_hash'] = auctions_by_day['ref_hash'].astype('int64')\n",
    "    auctions_by_day['auctions_day_1_percent'] = auctions_by_day['auctions_day_1']/auctions_by_day['total_auctions']\n",
    "    auctions_by_day['auctions_day_2_percent'] = auctions_by_day['auctions_day_2']/auctions_by_day['total_auctions']\n",
    "    auctions_by_day['auctions_day_3_percent'] = auctions_by_day['auctions_day_3']/auctions_by_day['total_auctions']\n",
    "    devices[i] = pd.merge(devices[i], auctions_by_day, on='ref_hash', how='left')\n",
    "    devices[i]['total_auctions_normalized'] = devices[i]['total_auctions']/(devices[i]['total_auctions'].max())\n",
    "    del auctions_by_day\n",
    "    \n",
    "    auctions_grouped = df_auctions[i].groupby('device_id').agg({'diff_to_prev_auction': ['mean', 'std']}).reset_index()\n",
    "    auctions_grouped.columns = ['ref_hash', 'mean_diff_between_auctions', 'std_diff_between_auctions']\n",
    "    devices[i] = pd.merge(devices[i], auctions_grouped, on='ref_hash', how='left')\n",
    "    #Completo el mean_diff_between_auction con 259200 (3 dias en segundos) y el std_diff_between_auction con 0 (el desvio estandar de una muestra unica es 0)\n",
    "    devices[i]['mean_diff_between_auctions'].fillna(259200, inplace=True)\n",
    "    devices[i]['std_diff_between_auctions'].fillna(0, inplace=True)\n",
    "    del auctions_grouped\n",
    "    \n",
    "    #Completo los nan con 0 todas las columnas restantes\n",
    "    devices[i].fillna(0, inplace=True)"
   ]
  },
  {
   "cell_type": "code",
   "execution_count": 7,
   "metadata": {},
   "outputs": [
    {
     "data": {
      "text/plain": [
       "407"
      ]
     },
     "execution_count": 7,
     "metadata": {},
     "output_type": "execute_result"
    }
   ],
   "source": [
    "#Libero memoria\n",
    "import gc\n",
    "gc.collect()"
   ]
  },
  {
   "cell_type": "code",
   "execution_count": 8,
   "metadata": {},
   "outputs": [
    {
     "name": "stdout",
     "output_type": "stream",
     "text": [
      "Generado el archivo devices_featured0_final.csv\n",
      "Generado el archivo devices_featured1_final.csv\n",
      "Generado el archivo devices_featured2_final.csv\n",
      "Generado el archivo devices_featured3_final.csv\n"
     ]
    }
   ],
   "source": [
    "for i in range(0, 4):\n",
    "#for i in range(6, 7):\n",
    "    devices[i].to_csv('devices_featured{}_final.csv'.format(i), header=True, index=None)\n",
    "    print('Generado el archivo devices_featured{}_final.csv'.format(i))"
   ]
  }
 ],
 "metadata": {
  "kernelspec": {
   "display_name": "Python 3",
   "language": "python",
   "name": "python3"
  },
  "language_info": {
   "codemirror_mode": {
    "name": "ipython",
    "version": 3
   },
   "file_extension": ".py",
   "mimetype": "text/x-python",
   "name": "python",
   "nbconvert_exporter": "python",
   "pygments_lexer": "ipython3",
   "version": "3.6.6"
  }
 },
 "nbformat": 4,
 "nbformat_minor": 2
}
